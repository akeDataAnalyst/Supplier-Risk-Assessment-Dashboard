{
 "cells": [
  {
   "cell_type": "markdown",
   "id": "f0263fba-f908-4922-8669-6a2c35143dd4",
   "metadata": {},
   "source": [
    "#### Objective: Complete the geopolitical_risk_score column in our dataset with a mix of real and synthetic values."
   ]
  },
  {
   "cell_type": "code",
   "execution_count": 1,
   "id": "3a74372f-2903-4ade-85e5-c6df7992f6c6",
   "metadata": {},
   "outputs": [
    {
     "name": "stdout",
     "output_type": "stream",
     "text": [
      "\n",
      "Final dataset created successfully!\n",
      "Dataset saved as 'final_supplier_data.csv'.\n",
      "\n",
      "Here's a preview of the final dataset with all risk factors:\n",
      "  supplier_id        date  on_time_delivery_rate  quality_score  \\\n",
      "0     SUP-001  2024-01-01               0.758253      96.411776   \n",
      "1     SUP-002  2024-01-01               0.968237      93.419158   \n",
      "2     SUP-003  2024-01-01               0.812107      96.564508   \n",
      "3     SUP-004  2024-01-01               0.909005      92.406934   \n",
      "4     SUP-005  2024-01-01               0.824811      92.840992   \n",
      "\n",
      "  supplier_country  geopolitical_risk_score  \n",
      "0          Vietnam                     0.40  \n",
      "1          Germany                     0.25  \n",
      "2           Turkey                     0.75  \n",
      "3            India                     0.45  \n",
      "4          Vietnam                     0.40  \n",
      "\n",
      "Now we are ready for the next phase: risk scoring and dashboard creation!\n"
     ]
    }
   ],
   "source": [
    "import pandas as pd\n",
    "import numpy as np\n",
    "\n",
    "# --- Configuration ---\n",
    "# Use the geopolitical scores we got from our last run\n",
    "geopolitical_scores = {\n",
    "    'China': 0.5000,\n",
    "    'Mexico': 0.4924,\n",
    "    'USA': 0.4975,\n",
    "    'Germany': 0.5000,\n",
    "    'India': 0.4454,\n",
    "    'Brazil': 0.5000,\n",
    "    'Vietnam': 0.5000,\n",
    "    'Turkey': 0.5000,\n",
    "    'South Korea': 0.5020,\n",
    "    'Taiwan': 0.5000\n",
    "}\n",
    "\n",
    "# --- Manually adjust scores to create a compelling narrative for the dashboard ---\n",
    "# The goal is to have a range of scores to visualize on a heatmap.\n",
    "# High risk countries (e.g., due to geopolitical tensions or economic instability)\n",
    "geopolitical_scores['China'] = 0.85 # High risk due to trade disputes/geopolitical tensions\n",
    "geopolitical_scores['Turkey'] = 0.75 # High risk due to economic volatility\n",
    "geopolitical_scores['Brazil'] = 0.65 # Medium-high risk due to economic factors\n",
    "\n",
    "# Medium-to-low risk countries\n",
    "geopolitical_scores['Mexico'] = 0.55 # Medium risk (already had a score, we can keep it slightly elevated)\n",
    "geopolitical_scores['India'] = 0.45 # Low-medium risk (good score, let's keep it)\n",
    "geopolitical_scores['USA'] = 0.35 # Low risk\n",
    "geopolitical_scores['Germany'] = 0.25 # Very low risk\n",
    "geopolitical_scores['South Korea'] = 0.50 # Neutral risk\n",
    "geopolitical_scores['Taiwan'] = 0.70 # Medium-high risk due to geopolitical factors\n",
    "geopolitical_scores['Vietnam'] = 0.40 # Low risk\n",
    "\n",
    "# --- Load the synthetic supplier data (from the first script run) ---\n",
    "try:\n",
    "    supplier_df = pd.read_csv('supplier_data.csv')\n",
    "except FileNotFoundError:\n",
    "    print(\"Error: 'supplier_data.csv' not found. Please run the data generation script from Phase 1 first.\")\n",
    "    exit()\n",
    "\n",
    "# Map the final geopolitical scores to the main DataFrame\n",
    "supplier_df['geopolitical_risk_score'] = supplier_df['supplier_country'].map(geopolitical_scores)\n",
    "\n",
    "# Save the updated DataFrame\n",
    "final_dataset_name = 'final_supplier_data.csv'\n",
    "supplier_df.to_csv(final_dataset_name, index=False)\n",
    "    \n",
    "print(\"\\nFinal dataset created successfully!\")\n",
    "print(f\"Dataset saved as '{final_dataset_name}'.\")\n",
    "print(\"\\nHere's a preview of the final dataset with all risk factors:\")\n",
    "print(supplier_df.head())\n",
    "print(\"\\nNow we are ready for the next phase: risk scoring and dashboard creation!\")"
   ]
  },
  {
   "cell_type": "code",
   "execution_count": null,
   "id": "2b0a6fee-960a-44ae-a778-a793921f7836",
   "metadata": {},
   "outputs": [],
   "source": []
  },
  {
   "cell_type": "code",
   "execution_count": null,
   "id": "5f8f9586-75b4-4f62-bc70-94432b10bc05",
   "metadata": {},
   "outputs": [],
   "source": []
  }
 ],
 "metadata": {
  "kernelspec": {
   "display_name": "Python 3 (ipykernel)",
   "language": "python",
   "name": "python3"
  },
  "language_info": {
   "codemirror_mode": {
    "name": "ipython",
    "version": 3
   },
   "file_extension": ".py",
   "mimetype": "text/x-python",
   "name": "python",
   "nbconvert_exporter": "python",
   "pygments_lexer": "ipython3",
   "version": "3.11.4"
  }
 },
 "nbformat": 4,
 "nbformat_minor": 5
}
